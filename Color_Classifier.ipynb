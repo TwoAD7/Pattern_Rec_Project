{
  "nbformat": 4,
  "nbformat_minor": 0,
  "metadata": {
    "kernelspec": {
      "display_name": "Python 3",
      "language": "python",
      "name": "python3"
    },
    "language_info": {
      "codemirror_mode": {
        "name": "ipython",
        "version": 3
      },
      "file_extension": ".py",
      "mimetype": "text/x-python",
      "name": "python",
      "nbconvert_exporter": "python",
      "pygments_lexer": "ipython3",
      "version": "3.7.1"
    },
    "colab": {
      "name": "Color_Classifier.ipynb",
      "provenance": []
    }
  },
  "cells": [
    {
      "cell_type": "markdown",
      "metadata": {
        "id": "LpESJdfl3dkg",
        "colab_type": "text"
      },
      "source": [
        "# Color Classifier\n",
        "**Created by Keaton Brewster, Roy Salinas, and Christine Case**\n",
        "\n",
        "5/4/2020\n",
        "\n",
        "This code translates the image info created with the RPI and trains several classifiers\n"
      ]
    },
    {
      "cell_type": "code",
      "metadata": {
        "id": "sgZU4m-6WmR5",
        "colab_type": "code",
        "colab": {}
      },
      "source": [
        "#importing various packages\n",
        "import matplotlib.pyplot as plt\n",
        "import numpy as np\n",
        "import pandas as pd\n",
        "from PIL import Image, ImageOps\n",
        "from sklearn import neighbors\n",
        "from sklearn import naive_bayes\n",
        "from sklearn.datasets import load_digits \n",
        "from sklearn import tree\n",
        "from sklearn import svm\n",
        "from sklearn import metrics  # for confusion matrix\n",
        "from skimage.color import rgb2gray\n",
        "import skimage\n",
        "from skimage.io import imread\n",
        "from sklearn.neural_network import MLPClassifier\n",
        "from sklearn.preprocessing import StandardScaler"
      ],
      "execution_count": 0,
      "outputs": []
    },
    {
      "cell_type": "markdown",
      "metadata": {
        "id": "WOw_i2Y64mLA",
        "colab_type": "text"
      },
      "source": [
        "- First, we are dealing with the output from the RPI. The RPI gives us: \n",
        "  - filename.jpg [['R' 'G' 'B'] %... (for the top 5 colors)\n",
        "  - this removes extraneous characters and strings, and then saves it as a numpy array\n",
        "  - It also creates the X and Y data separately, pulling the color from the input file name"
      ]
    },
    {
      "cell_type": "code",
      "metadata": {
        "id": "4yc8IkQhWmSB",
        "colab_type": "code",
        "colab": {}
      },
      "source": [
        "\n",
        "\n",
        "\n",
        "def reader(inputfile):\n",
        "    with open(inputfile,\"r\") as fin:\n",
        "        marray= []\n",
        "        for line in fin:\n",
        "            array = []\n",
        "            weights = []\n",
        "            line = line.strip() #get rid of white space such as \"\\n\"\n",
        "            line_info = line.split()\n",
        "            for element in line_info:\n",
        "                for character in element:\n",
        "                    if( character == \"]\" or character == \"'\" or character == \"[\" or character == \",\"):\n",
        "                        element =element.replace(character,\"\")\n",
        "                try:\n",
        "                    array.append(float(element))\n",
        "                except ValueError:\n",
        "                    continue \n",
        "            #grab the percentages for each color for each image \n",
        "            weights.append(array[3])\n",
        "            weights.append(array[7])\n",
        "            weights.append(array[11])\n",
        "            weights.append(array[15])\n",
        "            weights.append(array[19])\n",
        "\n",
        "            #pop the percentages out of the array \n",
        "            junk = array.pop(3)\n",
        "            junk = array.pop(6)\n",
        "            junk = array.pop(9)\n",
        "            junk = array.pop(12)\n",
        "            junk = array.pop(15)\n",
        "            \n",
        "            #apply the percentages as the weights \n",
        "            temp1 = [i * weights[0] for i in array[:3]]\n",
        "            temp2 = [i * weights[1] for i in array[3:6]]\n",
        "            temp3 = [i * weights[2] for i in array[6:9]]\n",
        "            temp4 = [i * weights[3] for i in array[9:12]]\n",
        "            temp5 = [i * weights[4] for i in array[12:15]]\n",
        "            \n",
        "            array = temp1 +temp2+temp3+temp4+temp5\n",
        "            \n",
        "            #print(array)\n",
        "            marray.append(array)\n",
        "    \n",
        "        #print(marray)\n",
        "        marray = np.asarray(marray)\n",
        "        #print(marray.shape)\n",
        "    yarray = []\n",
        "    #Create the Y array, taking the color from the input file name. Assumes it is in format: <color>_colorinfo.txt\n",
        "    for i in range(marray.shape[0]):\n",
        "        yarray.append(f\"{inputfile[:-14]}\")\n",
        "    return marray,yarray\n",
        "\n",
        "    fin.close()"
      ],
      "execution_count": 0,
      "outputs": []
    },
    {
      "cell_type": "markdown",
      "metadata": {
        "id": "8yd_5m8i5aR_",
        "colab_type": "text"
      },
      "source": [
        "Now, we are reading in the data, using the function above to convert the txt file into a usable format"
      ]
    },
    {
      "cell_type": "code",
      "metadata": {
        "id": "-UhMauFmWmSG",
        "colab_type": "code",
        "colab": {
          "base_uri": "https://localhost:8080/",
          "height": 35
        },
        "outputId": "2d085728-1f94-4b7b-c7e0-ad96e2ac6760"
      },
      "source": [
        "# reading in converted data\n",
        "X_yellow,Y_yellow = reader('yellow_colorinfo.txt')\n",
        "X_blue,Y_blue = reader('blue_colorinfo.txt')\n",
        "X_green, Y_green = reader('green_colorinfo.txt')\n",
        "X_pink, Y_pink = reader('pink_colorinfo.txt')\n",
        "X_red, Y_red = reader('red_colorinfo.txt')\n",
        "X_white, Y_white = reader('white_colorinfo.txt')\n",
        "X_purple, Y_purple = reader('purple_colorinfo.txt')\n",
        "X_black, Y_black = reader('black_colorinfo.txt')\n",
        "X_brown, Y_brown = reader('brown_colorinfo.txt')\n",
        "\n",
        "X_yellow.shape"
      ],
      "execution_count": 88,
      "outputs": [
        {
          "output_type": "execute_result",
          "data": {
            "text/plain": [
              "(76, 15)"
            ]
          },
          "metadata": {
            "tags": []
          },
          "execution_count": 88
        }
      ]
    },
    {
      "cell_type": "markdown",
      "metadata": {
        "id": "GTo8qshuWmSR",
        "colab_type": "text"
      },
      "source": [
        "There are 76 images and 15 features for yellow, displayed above. \n",
        "\n",
        "\n",
        "Now, converting lists to arrays and printing the shapes, which tells us how many images we have for each of the given colors\n",
        "\n"
      ]
    },
    {
      "cell_type": "code",
      "metadata": {
        "id": "9HN15_HDWmSc",
        "colab_type": "code",
        "colab": {
          "base_uri": "https://localhost:8080/",
          "height": 177
        },
        "outputId": "966c7cbf-f917-46ab-c86f-f8ea0a499699"
      },
      "source": [
        "# converting to arrays\n",
        "Y_yellow = np.asarray(Y_yellow)\n",
        "Y_blue = np.asarray(Y_blue)\n",
        "Y_green = np.asarray(Y_green)\n",
        "Y_pink = np.asarray(Y_pink)\n",
        "Y_red = np.asarray(Y_red)\n",
        "Y_white = np.asarray(Y_white)\n",
        "Y_purple = np.asarray(Y_purple)\n",
        "Y_black = np.asarray(Y_black)\n",
        "Y_brown = np.asarray(Y_brown)\n",
        "\n",
        "\n",
        "# should be (# pics, <blank>)\n",
        "print(Y_yellow.shape)\n",
        "print(Y_blue.shape)\n",
        "print(Y_green.shape)\n",
        "print(Y_pink.shape)\n",
        "print(Y_red.shape)\n",
        "print(Y_white.shape)\n",
        "print(Y_purple.shape)\n",
        "print(Y_black.shape)\n",
        "print(Y_brown.shape)\n"
      ],
      "execution_count": 97,
      "outputs": [
        {
          "output_type": "stream",
          "text": [
            "(76,)\n",
            "(329,)\n",
            "(126,)\n",
            "(228,)\n",
            "(167,)\n",
            "(420,)\n",
            "(73,)\n",
            "(291,)\n",
            "(94,)\n"
          ],
          "name": "stdout"
        }
      ]
    },
    {
      "cell_type": "code",
      "metadata": {
        "id": "LbM39DibJ4zV",
        "colab_type": "code",
        "colab": {
          "base_uri": "https://localhost:8080/",
          "height": 52
        },
        "outputId": "d773a711-2951-4fb8-aa19-1f38dea65a5a"
      },
      "source": [
        "# now, splitting off part of the data to be testing data\n",
        "# for now, just taking the first 10 values from each color [:10]\n",
        "\n",
        "# now, combining the colors. This can be ommited as desired.\n",
        "Y_test = []\n",
        "Y_test = np.asarray(Y_test)\n",
        "\n",
        "Y_test = np.append(Y_test,Y_yellow[:10])\n",
        "Y_test = np.append(Y_test,Y_blue[:10])\n",
        "Y_test = np.append(Y_test,Y_green[:10])\n",
        "Y_test = np.append(Y_test,Y_pink[:10])\n",
        "Y_test = np.append(Y_test,Y_red[:10])\n",
        "Y_test = np.append(Y_test,Y_white[:10])\n",
        "Y_test = np.append(Y_test,Y_purple[:10])\n",
        "Y_test = np.append(Y_test,Y_black[:10])\n",
        "Y_test = np.append(Y_test,Y_brown[:10])\n",
        "\n",
        "#should be (# pictures, <blank>)\n",
        "print(Y_test.shape)\n",
        "\n",
        "# starting off list\n",
        "X_test = X_yellow[:10]\n",
        "\n",
        "\n",
        "# adding in colors\n",
        "# axis = 0 option makes sure it adds rows\n",
        "# X_train = np.append(X_train,X_yellow, axis = 0)\n",
        "X_test = np.append(X_test,X_blue[:10], axis = 0)\n",
        "X_test = np.append(X_test,X_green[:10], axis = 0)\n",
        "X_test = np.append(X_test,X_pink[:10], axis = 0)\n",
        "X_test = np.append(X_test,X_red[:10], axis = 0)\n",
        "X_test = np.append(X_test,X_white[:10], axis = 0)\n",
        "X_test = np.append(X_test,X_purple[:10], axis = 0)\n",
        "X_test = np.append(X_test,X_black[:10], axis = 0)\n",
        "X_test = np.append(X_test,X_brown[:10], axis = 0)\n",
        "\n",
        "# should be (# pictures, 15 features)\n",
        "print(X_test.shape)\n",
        "\n"
      ],
      "execution_count": 150,
      "outputs": [
        {
          "output_type": "stream",
          "text": [
            "(90,)\n",
            "(90, 15)\n"
          ],
          "name": "stdout"
        }
      ]
    },
    {
      "cell_type": "code",
      "metadata": {
        "id": "EqhqZrJ2fLCn",
        "colab_type": "code",
        "colab": {
          "base_uri": "https://localhost:8080/",
          "height": 52
        },
        "outputId": "aa1c1626-2f07-418e-a1e7-eb9d0d19031a"
      },
      "source": [
        "# now, combining the colors. This can be ommited as desired.\n",
        "\n",
        "\n",
        "#for the training set, we keep everything but the first 10 values, hence the [10:]\n",
        "Y_train = []\n",
        "Y_train = np.asarray(Y_train)\n",
        "\n",
        "Y_train = np.append(Y_train,Y_yellow[10:])\n",
        "Y_train = np.append(Y_train,Y_blue[10:])\n",
        "Y_train = np.append(Y_train,Y_green[10:])\n",
        "Y_train = np.append(Y_train,Y_pink[10:])\n",
        "Y_train = np.append(Y_train,Y_red[10:])\n",
        "Y_train = np.append(Y_train,Y_white[10:])\n",
        "Y_train = np.append(Y_train,Y_purple[10:])\n",
        "Y_train = np.append(Y_train,Y_black[10:])\n",
        "Y_train = np.append(Y_train,Y_brown[10:])\n",
        "\n",
        "#should be (# pictures, <blank>)\n",
        "print(Y_train.shape)\n",
        "\n",
        "# starting off list\n",
        "X_train = X_yellow[10:]\n",
        "\n",
        "\n",
        "# adding in colors\n",
        "# axis = 0 option makes sure it adds rows\n",
        "# X_train = np.append(X_train,X_yellow, axis = 0)\n",
        "X_train = np.append(X_train,X_blue[10:], axis = 0)\n",
        "X_train = np.append(X_train,X_green[10:], axis = 0)\n",
        "X_train = np.append(X_train,X_pink[10:], axis = 0)\n",
        "X_train = np.append(X_train,X_red[10:], axis = 0)\n",
        "X_train = np.append(X_train,X_white[10:], axis = 0)\n",
        "X_train = np.append(X_train,X_purple[10:], axis = 0)\n",
        "X_train = np.append(X_train,X_black[10:], axis = 0)\n",
        "X_train = np.append(X_train,X_brown[10:], axis = 0)\n",
        "\n",
        "# should be (# pictures, 15 features)\n",
        "print(X_train.shape)\n"
      ],
      "execution_count": 91,
      "outputs": [
        {
          "output_type": "stream",
          "text": [
            "(1714,)\n",
            "(1714, 15)\n"
          ],
          "name": "stdout"
        }
      ]
    },
    {
      "cell_type": "markdown",
      "metadata": {
        "id": "RIhKTUcX50sH",
        "colab_type": "text"
      },
      "source": [
        "For neural network, it needs the data to be normalized to have a mean of 0 and a stdev of 1. This is done using the standard scaler. This should not affect other classifiers, but regardless we are mainly focused on MLP classifier."
      ]
    },
    {
      "cell_type": "code",
      "metadata": {
        "id": "c5fWzOAHpN0l",
        "colab_type": "code",
        "colab": {}
      },
      "source": [
        "#resizing\n",
        "#sets mean = 0, stdev = 1\n",
        "scaler = StandardScaler()\n",
        "\n",
        "scaler.fit(X_train)\n",
        "X_train = scaler.transform(X_train)\n",
        "\n",
        "\n",
        "# will need to do this for prediction data\n",
        "# X_pred = scaler.transform(X_pred)\n",
        "\n",
        "#hurray! now we are all ready to rumble"
      ],
      "execution_count": 0,
      "outputs": []
    },
    {
      "cell_type": "markdown",
      "metadata": {
        "id": "x92zWuICWmSl",
        "colab_type": "text"
      },
      "source": [
        "Now, training the neural network. We tried many different options, including the solver type, activation method, alpha value, size of hidden layers, and the maximum interations\n",
        "\n"
      ]
    },
    {
      "cell_type": "code",
      "metadata": {
        "id": "nSNs3pKEWmSn",
        "colab_type": "code",
        "colab": {
          "base_uri": "https://localhost:8080/",
          "height": 215
        },
        "outputId": "9a0e58e8-85dc-4574-ec05-1d1f41e0b3fd"
      },
      "source": [
        "# setting up a neural network for yellow\n",
        "\n",
        "# lbfgs gives score of 0.23\n",
        "# adams gives score of 0.2\n",
        "# sgd gives score of 0.377\n",
        "\n",
        "# roy = solver='lbfgs',activation=\"tanh\", alpha=1e-3,hidden_layer_sizes=(i,((i+2)^2-1)), random_state=42\n",
        "\n",
        "# can mess with these options some\n",
        "clf = MLPClassifier(solver='sgd',activation=\"tanh\", alpha=1e-3,hidden_layer_sizes=100, random_state=42,max_iter=2000)\n",
        "\n",
        "clf.fit(X_train,Y_train)\n",
        "\n"
      ],
      "execution_count": 158,
      "outputs": [
        {
          "output_type": "stream",
          "text": [
            "/usr/local/lib/python3.6/dist-packages/sklearn/neural_network/_multilayer_perceptron.py:571: ConvergenceWarning: Stochastic Optimizer: Maximum iterations (2000) reached and the optimization hasn't converged yet.\n",
            "  % self.max_iter, ConvergenceWarning)\n"
          ],
          "name": "stderr"
        },
        {
          "output_type": "execute_result",
          "data": {
            "text/plain": [
              "MLPClassifier(activation='tanh', alpha=0.001, batch_size='auto', beta_1=0.9,\n",
              "              beta_2=0.999, early_stopping=False, epsilon=1e-08,\n",
              "              hidden_layer_sizes=100, learning_rate='constant',\n",
              "              learning_rate_init=0.001, max_fun=15000, max_iter=2000,\n",
              "              momentum=0.9, n_iter_no_change=10, nesterovs_momentum=True,\n",
              "              power_t=0.5, random_state=42, shuffle=True, solver='sgd',\n",
              "              tol=0.0001, validation_fraction=0.1, verbose=False,\n",
              "              warm_start=False)"
            ]
          },
          "metadata": {
            "tags": []
          },
          "execution_count": 158
        }
      ]
    },
    {
      "cell_type": "code",
      "metadata": {
        "id": "RbTAFo1qkLVt",
        "colab_type": "code",
        "colab": {
          "base_uri": "https://localhost:8080/",
          "height": 52
        },
        "outputId": "07567991-7f31-42c5-cb60-9c579ade33ca"
      },
      "source": [
        "# just testing it out here\n",
        "\n",
        "\n",
        "# print(clf.predict(X_test))\n",
        "# print(Y_test)\n",
        "print(f'test score = {clf.score(X_test,Y_test)}')\n",
        "print(f'train score = {clf.score(X_train,Y_train)}')\n",
        "# print(clf.predict_proba(X_test))"
      ],
      "execution_count": 159,
      "outputs": [
        {
          "output_type": "stream",
          "text": [
            "test score = 0.37777777777777777\n",
            "train score = 0.5315052508751459\n"
          ],
          "name": "stdout"
        }
      ]
    },
    {
      "cell_type": "markdown",
      "metadata": {
        "id": "WmjVabkn7CBU",
        "colab_type": "text"
      },
      "source": [
        "MLP did pretty well compared to other attempts, so we are keeping this as our best attempt. Below, I tried a few different Methods. \n",
        "\n",
        "\n",
        "# Tree\n",
        "\n",
        "- did not work well\n",
        "- the 0.11 is just as good as a random guess as there are 9 colors"
      ]
    },
    {
      "cell_type": "code",
      "metadata": {
        "id": "9ROD2YpBM3LW",
        "colab_type": "code",
        "colab": {
          "base_uri": "https://localhost:8080/",
          "height": 35
        },
        "outputId": "ec5dad19-3e74-4d96-d9a5-788efd60b08f"
      },
      "source": [
        "# tree did not work well\n",
        "clf2 = tree.DecisionTreeClassifier(max_depth=5)\n",
        "\n",
        "clf2.fit(X_train,Y_train)\n",
        "\n",
        "print(clf2.score(X_test,Y_test))"
      ],
      "execution_count": 142,
      "outputs": [
        {
          "output_type": "stream",
          "text": [
            "0.1111111111111111\n"
          ],
          "name": "stdout"
        }
      ]
    },
    {
      "cell_type": "markdown",
      "metadata": {
        "id": "pynSkgvG7Tku",
        "colab_type": "text"
      },
      "source": [
        "# Neighbors\n",
        "\n",
        " - Usually, this one does great! But, it was not the case here.\n",
        " - Not much better than the tree."
      ]
    },
    {
      "cell_type": "code",
      "metadata": {
        "id": "5y3oPYvoNiWC",
        "colab_type": "code",
        "colab": {
          "base_uri": "https://localhost:8080/",
          "height": 35
        },
        "outputId": "ab9d2a42-0e34-4c1d-da82-deeaceb7b394"
      },
      "source": [
        "# neighbor is baad\n",
        "\n",
        "clf3 = neighbors.KNeighborsClassifier(n_neighbors=7)\n",
        "\n",
        "clf3.fit(X_train,Y_train)\n",
        "print(clf3.score(X_test,Y_test))\n"
      ],
      "execution_count": 104,
      "outputs": [
        {
          "output_type": "stream",
          "text": [
            "0.15555555555555556\n"
          ],
          "name": "stdout"
        }
      ]
    },
    {
      "cell_type": "markdown",
      "metadata": {
        "id": "aELo23qQ7bzZ",
        "colab_type": "text"
      },
      "source": [
        "# Naive Bayes\n",
        "\n",
        "- same accuracy as neighbors\n",
        "- still not nearly as good as a neural network"
      ]
    },
    {
      "cell_type": "code",
      "metadata": {
        "id": "2uw8MTUfOSg6",
        "colab_type": "code",
        "colab": {
          "base_uri": "https://localhost:8080/",
          "height": 35
        },
        "outputId": "2d96bd28-7387-4b86-84bc-a9006f839490"
      },
      "source": [
        "# bayes 2nd to neural net\n",
        "\n",
        "clf4 = naive_bayes.GaussianNB()\n",
        "\n",
        "clf4.fit(X_train,Y_train)\n",
        "\n",
        "print(clf4.score(X_test,Y_test))\n"
      ],
      "execution_count": 105,
      "outputs": [
        {
          "output_type": "stream",
          "text": [
            "0.15555555555555556\n"
          ],
          "name": "stdout"
        }
      ]
    },
    {
      "cell_type": "markdown",
      "metadata": {
        "id": "5zdLrwPu7kog",
        "colab_type": "text"
      },
      "source": [
        "# Below this, I am just using clf to make some predictions"
      ]
    },
    {
      "cell_type": "code",
      "metadata": {
        "id": "gcqy0aHd0uOd",
        "colab_type": "code",
        "colab": {
          "base_uri": "https://localhost:8080/",
          "height": 52
        },
        "outputId": "0880dcf1-8720-49df-ea60-da6f1dd91f36"
      },
      "source": [
        "# testing on an image\n",
        "\n",
        "X_test, junk = reader('pic.jpg_testing_colorinfo.txt')\n",
        "\n",
        "X_test = scaler.transform(X_test)\n",
        "\n",
        "image = Image.open('pic.jpg')\n",
        "image.show()\n",
        "print(clf.predict(X_test))\n",
        "\n",
        "X_test.shape"
      ],
      "execution_count": 109,
      "outputs": [
        {
          "output_type": "stream",
          "text": [
            "['red' 'black']\n"
          ],
          "name": "stdout"
        },
        {
          "output_type": "execute_result",
          "data": {
            "text/plain": [
              "(2, 15)"
            ]
          },
          "metadata": {
            "tags": []
          },
          "execution_count": 109
        }
      ]
    },
    {
      "cell_type": "code",
      "metadata": {
        "id": "wDqtwDpMQ1gw",
        "colab_type": "code",
        "colab": {
          "base_uri": "https://localhost:8080/",
          "height": 35
        },
        "outputId": "0b637a3b-2519-4f00-98bf-0d51e504dae1"
      },
      "source": [
        "# testing on an image\n",
        "\n",
        "X_test, junk = reader('testpic_1.jpg_testing_colorinfo.txt')\n",
        "X_test = scaler.transform(X_test)\n",
        "\n",
        "print(clf.predict(X_test))\n",
        "\n"
      ],
      "execution_count": 145,
      "outputs": [
        {
          "output_type": "stream",
          "text": [
            "['blue']\n"
          ],
          "name": "stdout"
        }
      ]
    },
    {
      "cell_type": "code",
      "metadata": {
        "id": "ADJCcBpCRDPq",
        "colab_type": "code",
        "colab": {
          "base_uri": "https://localhost:8080/",
          "height": 35
        },
        "outputId": "fd482663-e33f-4e6f-c417-eb7d2c480050"
      },
      "source": [
        "# testing on an image\n",
        "\n",
        "X_test, junk = reader('testpic_2.jpg_testing_colorinfo.txt')\n",
        "X_test = scaler.transform(X_test)\n",
        "\n",
        "print(clf.predict(X_test))\n",
        "\n"
      ],
      "execution_count": 146,
      "outputs": [
        {
          "output_type": "stream",
          "text": [
            "['white']\n"
          ],
          "name": "stdout"
        }
      ]
    },
    {
      "cell_type": "code",
      "metadata": {
        "id": "DFMc1b67SpTI",
        "colab_type": "code",
        "colab": {
          "base_uri": "https://localhost:8080/",
          "height": 35
        },
        "outputId": "80c82cad-cda4-4908-837a-35c49757c633"
      },
      "source": [
        "# testing on an image\n",
        "\n",
        "X_test, junk = reader('testpic_3.jpg_testing_colorinfo.txt')\n",
        "X_test = scaler.transform(X_test)\n",
        "\n",
        "print(clf.predict(X_test))\n"
      ],
      "execution_count": 148,
      "outputs": [
        {
          "output_type": "stream",
          "text": [
            "['green']\n"
          ],
          "name": "stdout"
        }
      ]
    },
    {
      "cell_type": "code",
      "metadata": {
        "id": "gnYgH9Yqhej0",
        "colab_type": "code",
        "colab": {
          "base_uri": "https://localhost:8080/",
          "height": 35
        },
        "outputId": "5a3f3b91-c478-44f3-a57f-a74b502f8f8d"
      },
      "source": [
        "# testing on a blue image of just blue\n",
        "X_test, junk = reader('bluepic.jpg_testing_colorinfo.txt')\n",
        "\n",
        "X_test = scaler.transform(X_test)\n",
        "\n",
        "print(clf.predict(X_test))\n"
      ],
      "execution_count": 147,
      "outputs": [
        {
          "output_type": "stream",
          "text": [
            "['purple']\n"
          ],
          "name": "stdout"
        }
      ]
    },
    {
      "cell_type": "markdown",
      "metadata": {
        "id": "0JW_qa0Dm_Kj",
        "colab_type": "text"
      },
      "source": [
        "# Now, trying to make separate classifiers\n",
        "\n",
        "- This was our initial plan, but it did not pan out well. When we train on all of the same color, then the classifier thinks that everything is that color, so these are not useful for anything unfortunately.\n",
        "- There is potential to use pairings of colors, so in a way use a decision tree between colors, but each decision is made by a neural network."
      ]
    },
    {
      "cell_type": "code",
      "metadata": {
        "id": "VYKtqVmonCpP",
        "colab_type": "code",
        "colab": {
          "base_uri": "https://localhost:8080/",
          "height": 159
        },
        "outputId": "be778b5f-8f68-4721-cd4f-a8bdcfd61343"
      },
      "source": [
        "clf_yellow = MLPClassifier(solver = 'adam', random_state=1,max_iter = 3000)\n",
        "clf_blue = MLPClassifier(solver = 'adam', random_state=1,max_iter = 3000)\n",
        "clf_green = MLPClassifier(solver = 'adam', random_state=1,max_iter = 3000)\n",
        "clf_pink = MLPClassifier(solver = 'adam', random_state=1,max_iter = 3000)\n",
        "clf_red = MLPClassifier(solver = 'adam', random_state=1,max_iter = 3000)\n",
        "clf_white = MLPClassifier(solver = 'adam', random_state=1,max_iter = 3000)\n",
        "clf_purple = MLPClassifier(solver = 'adam', random_state=1,max_iter = 3000)\n",
        "clf_black = MLPClassifier(solver = 'adam', random_state=1,max_iter = 3000)\n",
        "clf_brown = MLPClassifier(solver = 'adam', random_state=1,max_iter = 3000)\n",
        "\n",
        "\n",
        "clf_yellow.fit(X_yellow,Y_yellow)\n",
        "clf_blue.fit(X_blue,Y_blue)\n",
        "clf_green.fit(X_green,Y_green)\n",
        "clf_pink.fit(X_pink,Y_pink)\n",
        "clf_red.fit(X_red,Y_red)\n",
        "clf_white.fit(X_white,Y_white)\n",
        "clf_purple.fit(X_purple,Y_purple)\n",
        "clf_black.fit(X_black,Y_black)\n",
        "clf_brown.fit(X_brown,Y_brown)\n",
        "\n",
        "\n",
        "\n",
        "\n"
      ],
      "execution_count": 111,
      "outputs": [
        {
          "output_type": "execute_result",
          "data": {
            "text/plain": [
              "MLPClassifier(activation='relu', alpha=0.0001, batch_size='auto', beta_1=0.9,\n",
              "              beta_2=0.999, early_stopping=False, epsilon=1e-08,\n",
              "              hidden_layer_sizes=(100,), learning_rate='constant',\n",
              "              learning_rate_init=0.001, max_fun=15000, max_iter=3000,\n",
              "              momentum=0.9, n_iter_no_change=10, nesterovs_momentum=True,\n",
              "              power_t=0.5, random_state=1, shuffle=True, solver='adam',\n",
              "              tol=0.0001, validation_fraction=0.1, verbose=False,\n",
              "              warm_start=False)"
            ]
          },
          "metadata": {
            "tags": []
          },
          "execution_count": 111
        }
      ]
    },
    {
      "cell_type": "code",
      "metadata": {
        "id": "G_XNStpqnr-V",
        "colab_type": "code",
        "colab": {}
      },
      "source": [
        "# yellow thinks all is yellow\n",
        "\n",
        "# print(clf_yellow.predict(X_test))"
      ],
      "execution_count": 0,
      "outputs": []
    }
  ]
}