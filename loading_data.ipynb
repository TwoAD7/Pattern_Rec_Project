{
 "cells": [
  {
   "cell_type": "code",
   "execution_count": 1,
   "metadata": {},
   "outputs": [],
   "source": [
    "import matplotlib.pyplot as plt\n",
    "import numpy as np\n",
    "import pandas as pd\n",
    "from PIL import Image, ImageOps\n",
    "from sklearn import neighbors\n",
    "from sklearn import naive_bayes\n",
    "from sklearn.datasets import load_digits \n",
    "from sklearn import tree\n",
    "from sklearn import svm\n",
    "from sklearn import metrics  # for confusion matrix\n",
    "from skimage.color import rgb2gray\n",
    "import skimage\n",
    "from skimage.io import imread"
   ]
  },
  {
   "cell_type": "code",
   "execution_count": 24,
   "metadata": {},
   "outputs": [],
   "source": [
    "import numpy as np\n",
    "\n",
    "\n",
    "def reader(inputfile):\n",
    "    with open(inputfile,\"r\") as fin:\n",
    "        marray= []\n",
    "        for line in fin:\n",
    "            array = []\n",
    "            weights = []\n",
    "            line = line.strip() #get rid of white space such as \"\\n\"\n",
    "            line_info = line.split()\n",
    "            for element in line_info:\n",
    "                for character in element:\n",
    "                    if( character == \"]\" or character == \"'\" or character == \"[\" or character == \",\"):\n",
    "                        element =element.replace(character,\"\")\n",
    "                try:\n",
    "                    array.append(float(element))\n",
    "                except ValueError:\n",
    "                    continue \n",
    "            #grab the percentages for each color for each image \n",
    "            weights.append(array[3])\n",
    "            weights.append(array[7])\n",
    "            weights.append(array[11])\n",
    "            weights.append(array[15])\n",
    "            weights.append(array[19])\n",
    "\n",
    "            #pop the percentages out of the array \n",
    "            junk = array.pop(3)\n",
    "            junk = array.pop(6)\n",
    "            junk = array.pop(9)\n",
    "            junk = array.pop(12)\n",
    "            junk = array.pop(15)\n",
    "            \n",
    "            #apply the percentages as the weights \n",
    "            temp1 = [i * weights[0] for i in array[:3]]\n",
    "            temp2 = [i * weights[1] for i in array[3:6]]\n",
    "            temp3 = [i * weights[2] for i in array[6:9]]\n",
    "            temp4 = [i * weights[3] for i in array[9:12]]\n",
    "            temp5 = [i * weights[4] for i in array[12:15]]\n",
    "            \n",
    "            array = temp1 +temp2+temp3+temp4+temp5\n",
    "            \n",
    "            #print(array)\n",
    "            marray.append(array)\n",
    "\n",
    "        #print(marray)\n",
    "        marray = np.asarray(marray)\n",
    "        #print(marray.shape)\n",
    "        return marray\n",
    "\n",
    "    fin.close()"
   ]
  },
  {
   "cell_type": "code",
   "execution_count": 43,
   "metadata": {},
   "outputs": [
    {
     "data": {
      "text/plain": [
       "(167, 15)"
      ]
     },
     "execution_count": 43,
     "metadata": {},
     "output_type": "execute_result"
    }
   ],
   "source": [
    "X_training = reader('/Users/Owner/Desktop/Folders/Pattern_Rec/red_colorinfo.txt')\n",
    "X_training.shape"
   ]
  },
  {
   "cell_type": "markdown",
   "metadata": {},
   "source": [
    "We have 167 images with 15 features each "
   ]
  },
  {
   "cell_type": "code",
   "execution_count": 45,
   "metadata": {},
   "outputs": [],
   "source": [
    "Y_training = []\n",
    "#Append all of the RGB values for Red as the target variables. Can change this to the word \"red\" or however we choose\n",
    "for i in range(X_training.shape[0]):\n",
    "    Y_training.append(\"red\")"
   ]
  },
  {
   "cell_type": "code",
   "execution_count": 46,
   "metadata": {},
   "outputs": [
    {
     "data": {
      "text/plain": [
       "(167,)"
      ]
     },
     "execution_count": 46,
     "metadata": {},
     "output_type": "execute_result"
    }
   ],
   "source": [
    "Y_training = np.asarray(Y_training)\n",
    "Y_training.shape"
   ]
  },
  {
   "cell_type": "markdown",
   "metadata": {},
   "source": [
    "We have 167 images with the target being the word \"red\""
   ]
  },
  {
   "cell_type": "code",
   "execution_count": null,
   "metadata": {},
   "outputs": [],
   "source": []
  }
 ],
 "metadata": {
  "kernelspec": {
   "display_name": "Python 3",
   "language": "python",
   "name": "python3"
  },
  "language_info": {
   "codemirror_mode": {
    "name": "ipython",
    "version": 3
   },
   "file_extension": ".py",
   "mimetype": "text/x-python",
   "name": "python",
   "nbconvert_exporter": "python",
   "pygments_lexer": "ipython3",
   "version": "3.7.1"
  }
 },
 "nbformat": 4,
 "nbformat_minor": 4
}
